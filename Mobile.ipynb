{
 "cells": [
  {
   "cell_type": "code",
   "execution_count": 1,
   "metadata": {},
   "outputs": [
    {
     "name": "stdout",
     "output_type": "stream",
     "text": [
      "Number of GPUs : 1\n",
      "Tensorflow GPU : True\n"
     ]
    }
   ],
   "source": [
    "import numpy as np\n",
    "import pandas as pd   \n",
    "import os\n",
    "from pathlib import Path\n",
    "import glob\n",
    "import json\n",
    "import tensorflow as tf\n",
    "import tensorflow_datasets as tfds\n",
    "import os\n",
    "import nltk\n",
    "import cv2\n",
    "import matplotlib.pyplot as plt\n",
    "import random\n",
    "\n",
    "physical_devices = tf.config.list_physical_devices('GPU') \n",
    "print(\"Number of GPUs :\", len(physical_devices)) \n",
    "print(\"Tensorflow GPU :\",tf.test.is_built_with_cuda())\n",
    "if len(physical_devices)>0:\n",
    "    device=\"/GPU:0\"\n",
    "else:\n",
    "    device=\"/CPU:0\""
   ]
  },
  {
   "cell_type": "code",
   "execution_count": 2,
   "metadata": {},
   "outputs": [],
   "source": [
    "def load_data(N, mode='train'):\n",
    "    with open(f'clevr/CLEVR_v1/questions/CLEVR_{mode}_questions.json') as f:\n",
    "        data = json.load(f)\n",
    "        data_set_size = len(data['questions'])\n",
    "        records = []\n",
    "        for k in np.random.uniform(0, data_set_size, N).astype(int):\n",
    "            i = data['questions'][k]\n",
    "            temp=[]\n",
    "            for path in glob.glob(f'clevr/CLEVR_v1/images/{mode}/'+i['image_filename']): \n",
    "                temp.append(path)\n",
    "            temp.append(i['question'])\n",
    "            temp.append(i['answer'])\n",
    "            records.append(temp)\n",
    "    labels=['Path','Question','Answer']\n",
    "    return pd.DataFrame.from_records(records, columns=labels)"
   ]
  },
  {
   "cell_type": "code",
   "execution_count": 3,
   "metadata": {},
   "outputs": [],
   "source": [
    "train_df = load_data(70000, 'train')\n",
    "val_df = load_data(15000, 'val')"
   ]
  },
  {
   "cell_type": "code",
   "execution_count": 4,
   "metadata": {},
   "outputs": [],
   "source": [
    "def tokenize_qs(questions, tokenizer):\n",
    "    res = set()\n",
    "    for question in questions:\n",
    "        res.update(tokenizer.tokenize(question))\n",
    "    return res\n",
    "    \n",
    "tokenizer = tfds.deprecated.text.Tokenizer()\n",
    "\n",
    "answer_set = set(np.append(train_df['Answer'].unique(),val_df['Answer'].unique()))\n",
    "question_set = set(np.append(train_df['Question'].unique(),val_df['Question'].unique()))\n",
    "vocab_set = tokenize_qs(question_set, tokenizer) | answer_set\n",
    "    \n",
    "encoder=tfds.deprecated.text.TokenTextEncoder(vocab_set)\n",
    "answer_encoder=tfds.deprecated.text.TokenTextEncoder(answer_set)"
   ]
  },
  {
   "cell_type": "code",
   "execution_count": 5,
   "metadata": {},
   "outputs": [],
   "source": [
    "BATCH_SIZE=128\n",
    "IMG_SIZE=(128,128)\n",
    "\n",
    "\n",
    "def encode_fn(text):\n",
    "    return np.array(encoder.encode(text.numpy()))\n",
    "\n",
    "def answer_encode_fn(text):\n",
    "    return np.array(answer_encoder.encode(text.numpy()))\n",
    "\n",
    "def preprocess(ip,ans):\n",
    "    img,ques=ip\n",
    "    img=tf.io.read_file(img)\n",
    "    img=tf.image.decode_jpeg(img,channels=3)\n",
    "    img=tf.image.resize(img,IMG_SIZE)\n",
    "    img=tf.math.divide(img, 255)# \n",
    "    ques=tf.py_function(encode_fn,inp=[ques],Tout=tf.int32)\n",
    "    paddings = [[0, 50-tf.shape(ques)[0]]]\n",
    "    ques = tf.pad(ques, paddings, 'CONSTANT', constant_values=0)\n",
    "    ques.set_shape([50])\n",
    "    \n",
    "    ans=tf.py_function(answer_encode_fn,inp=[ans],Tout=tf.int32)\n",
    "    ans.set_shape([1])\n",
    "    \n",
    "    return (img,ques),ans\n",
    "    \n",
    "def create_pipeline(dataframe):\n",
    "    raw_df=tf.data.Dataset.from_tensor_slices(((dataframe['Path'],dataframe['Question']),dataframe['Answer']))\n",
    "    df=raw_df.map(preprocess)\n",
    "    df=df.batch(BATCH_SIZE)\n",
    "    return df\n",
    "\n",
    "train_dataset=create_pipeline(train_df)\n",
    "validation_dataset=create_pipeline(val_df)"
   ]
  },
  {
   "cell_type": "code",
   "execution_count": 87,
   "metadata": {},
   "outputs": [
    {
     "name": "stdout",
     "output_type": "stream",
     "text": [
      "Model: \"functional_25\"\n",
      "__________________________________________________________________________________________________\n",
      "Layer (type)                    Output Shape         Param #     Connected to                     \n",
      "==================================================================================================\n",
      "text_input (InputLayer)         [(None, 50)]         0                                            \n",
      "__________________________________________________________________________________________________\n",
      "embedding_12 (Embedding)        (None, 50, 256)      25856       text_input[0][0]                 \n",
      "__________________________________________________________________________________________________\n",
      "image_input (InputLayer)        [(None, 160, 160, 3) 0                                            \n",
      "__________________________________________________________________________________________________\n",
      "bidirectional_36 (Bidirectional (None, 50, 512)      1050624     embedding_12[0][0]               \n",
      "__________________________________________________________________________________________________\n",
      "mobilenetv2_1.00_160 (Functiona (None, 5, 5, 1280)   2257984     image_input[0][0]                \n",
      "__________________________________________________________________________________________________\n",
      "bidirectional_37 (Bidirectional (None, 50, 512)      1574912     bidirectional_36[0][0]           \n",
      "__________________________________________________________________________________________________\n",
      "global_average_pooling2d_12 (Gl (None, 1280)         0           mobilenetv2_1.00_160[0][0]       \n",
      "__________________________________________________________________________________________________\n",
      "bidirectional_38 (Bidirectional (None, 1024)         4198400     bidirectional_37[0][0]           \n",
      "__________________________________________________________________________________________________\n",
      "concatenate_12 (Concatenate)    (None, 2304)         0           global_average_pooling2d_12[0][0]\n",
      "                                                                 bidirectional_38[0][0]           \n",
      "__________________________________________________________________________________________________\n",
      "output (Dense)                  (None, 29)           66845       concatenate_12[0][0]             \n",
      "==================================================================================================\n",
      "Total params: 9,174,621\n",
      "Trainable params: 9,140,509\n",
      "Non-trainable params: 34,112\n",
      "__________________________________________________________________________________________________\n"
     ]
    }
   ],
   "source": [
    "CNN_Input=tf.keras.layers.Input(shape=(128,128,3),name='image_input')\n",
    "\n",
    "mobilenetv2=tf.keras.applications.mobilenet_v2.MobileNetV2(input_shape=(128,128,3), alpha=1.0, include_top=False,\n",
    "                                                      weights='imagenet', input_tensor=CNN_Input)\n",
    "\n",
    "CNN_model=tf.keras.models.Sequential()\n",
    "CNN_model.add(CNN_Input)\n",
    "CNN_model.add(mobilenetv2)\n",
    "CNN_model.add(tf.keras.layers.GlobalAveragePooling2D())\n",
    "\n",
    "\n",
    "\n",
    "#Creating the RNN model for text processing\n",
    "RNN_model=tf.keras.models.Sequential()\n",
    "\n",
    "RNN_Input=tf.keras.layers.Input(shape=(50),name='text_input')\n",
    "RNN_model.add(RNN_Input)\n",
    "RNN_model.add(tf.keras.layers.Embedding (len(vocab_set)+1,256))\n",
    "RNN_model.add(tf.keras.layers.Bidirectional(tf.keras.layers.LSTM(256,stateful=False,return_sequences=True,recurrent_initializer='glorot_uniform')))\n",
    "RNN_model.add(tf.keras.layers.Bidirectional(tf.keras.layers.LSTM(256,stateful=False,return_sequences=True,recurrent_initializer='glorot_uniform')))\n",
    "RNN_model.add(tf.keras.layers.Bidirectional(tf.keras.layers.LSTM(512,stateful=False,return_sequences=False,recurrent_initializer='glorot_uniform')))\n",
    "\n",
    "\n",
    "concat=tf.keras.layers.concatenate([CNN_model.output,RNN_model.output])\n",
    "dense_out=tf.keras.layers.Dense(len(answer_set) + 1,activation='softmax',name='output')(concat)\n",
    "\n",
    "model = tf.keras.Model(inputs=[CNN_Input,RNN_Input],\n",
    "                    outputs=dense_out)\n",
    "model.compile(optimizer='adam',loss='sparse_categorical_crossentropy',\n",
    "            metrics=['accuracy'])\n",
    "model.summary()"
   ]
  },
  {
   "cell_type": "code",
   "execution_count": 88,
   "metadata": {},
   "outputs": [
    {
     "name": "stdout",
     "output_type": "stream",
     "text": [
      "Epoch 1/30\n",
      "3907/3907 [==============================] - 4105s 1s/step - loss: 1.0723 - accuracy: 0.4407 - val_loss: 1.0216 - val_accuracy: 0.4509\n",
      "Epoch 2/30\n",
      "3907/3907 [==============================] - 3491s 893ms/step - loss: 0.9453 - accuracy: 0.4805 - val_loss: 1.0658 - val_accuracy: 0.4539\n",
      "Epoch 3/30\n",
      "3907/3907 [==============================] - 3494s 894ms/step - loss: 0.9150 - accuracy: 0.5022 - val_loss: 0.9841 - val_accuracy: 0.4677\n",
      "Epoch 4/30\n",
      "3907/3907 [==============================] - 3489s 893ms/step - loss: 0.9024 - accuracy: 0.5097 - val_loss: 0.9193 - val_accuracy: 0.5076\n",
      "Epoch 5/30\n",
      "3907/3907 [==============================] - 3494s 894ms/step - loss: 0.8955 - accuracy: 0.5130 - val_loss: 0.9107 - val_accuracy: 0.5051\n",
      "Epoch 6/30\n",
      "3907/3907 [==============================] - 3487s 892ms/step - loss: 0.8883 - accuracy: 0.5172 - val_loss: 0.9080 - val_accuracy: 0.5089\n",
      "Epoch 7/30\n",
      "3907/3907 [==============================] - 3489s 893ms/step - loss: 0.8824 - accuracy: 0.5196 - val_loss: 0.9096 - val_accuracy: 0.4983\n",
      "Epoch 8/30\n",
      "3907/3907 [==============================] - 3485s 892ms/step - loss: 0.8768 - accuracy: 0.5232 - val_loss: 0.9002 - val_accuracy: 0.5079\n",
      "Epoch 9/30\n",
      "3907/3907 [==============================] - 3487s 893ms/step - loss: 0.8714 - accuracy: 0.5272 - val_loss: 0.9044 - val_accuracy: 0.5073\n",
      "Epoch 10/30\n",
      "3907/3907 [==============================] - 3479s 891ms/step - loss: 0.8649 - accuracy: 0.5312 - val_loss: 0.9018 - val_accuracy: 0.5066\n",
      "Epoch 11/30\n",
      "3907/3907 [==============================] - 3487s 893ms/step - loss: 0.8585 - accuracy: 0.5362 - val_loss: 0.9383 - val_accuracy: 0.4953\n",
      "Epoch 12/30\n",
      "3907/3907 [==============================] - 3484s 892ms/step - loss: 0.8512 - accuracy: 0.5418 - val_loss: 0.9371 - val_accuracy: 0.4975\n",
      "Epoch 13/30\n",
      "3907/3907 [==============================] - 3487s 892ms/step - loss: 0.8433 - accuracy: 0.5469 - val_loss: 0.9539 - val_accuracy: 0.4886\n",
      "Epoch 14/30\n",
      "3907/3907 [==============================] - 3483s 891ms/step - loss: 0.8345 - accuracy: 0.5537 - val_loss: 0.9457 - val_accuracy: 0.4963\n",
      "Epoch 15/30\n",
      "3907/3907 [==============================] - 3485s 892ms/step - loss: 0.8255 - accuracy: 0.5606 - val_loss: 0.9634 - val_accuracy: 0.4976\n",
      "Epoch 16/30\n",
      "3907/3907 [==============================] - 3476s 890ms/step - loss: 0.8150 - accuracy: 0.5686 - val_loss: 0.9684 - val_accuracy: 0.4967\n",
      "Epoch 17/30\n",
      "3907/3907 [==============================] - 3484s 892ms/step - loss: 0.8041 - accuracy: 0.5765 - val_loss: 0.9770 - val_accuracy: 0.4883\n",
      "Epoch 18/30\n",
      "3907/3907 [==============================] - 3482s 891ms/step - loss: 0.7941 - accuracy: 0.5841 - val_loss: 0.9985 - val_accuracy: 0.4875\n",
      "Epoch 19/30\n",
      "3907/3907 [==============================] - 3486s 892ms/step - loss: 0.7825 - accuracy: 0.5926 - val_loss: 1.0400 - val_accuracy: 0.4887\n",
      "Epoch 20/30\n",
      "3907/3907 [==============================] - 3482s 891ms/step - loss: 0.7692 - accuracy: 0.6025 - val_loss: 1.0526 - val_accuracy: 0.4855\n",
      "Epoch 21/30\n",
      "3907/3907 [==============================] - 3484s 892ms/step - loss: 0.7558 - accuracy: 0.6130 - val_loss: 1.0764 - val_accuracy: 0.4908\n",
      "Epoch 22/30\n",
      "3907/3907 [==============================] - 3481s 891ms/step - loss: 0.7432 - accuracy: 0.6226 - val_loss: 1.0926 - val_accuracy: 0.4748\n",
      "Epoch 23/30\n",
      "3907/3907 [==============================] - 3485s 892ms/step - loss: 0.7281 - accuracy: 0.6327 - val_loss: 1.1266 - val_accuracy: 0.4774\n",
      "Epoch 24/30\n",
      "3907/3907 [==============================] - 3481s 891ms/step - loss: 0.7137 - accuracy: 0.6433 - val_loss: 1.1236 - val_accuracy: 0.4857\n",
      "Epoch 25/30\n",
      "3907/3907 [==============================] - 3477s 890ms/step - loss: 0.6166 - accuracy: 0.7074 - val_loss: 1.3044 - val_accuracy: 0.4847\n"
     ]
    }
   ],
   "source": [
    "epochs=30\n",
    "with tf.device(device):\n",
    "       history =  model.fit(train_dataset,\n",
    "                  validation_data=validation_dataset,\n",
    "                  epochs=epochs)"
   ]
  },
  {
   "cell_type": "code",
   "execution_count": null,
   "metadata": {},
   "outputs": [],
   "source": [
    "losses = pd.DataFrame(history.history)"
   ]
  },
  {
   "cell_type": "code",
   "execution_count": null,
   "metadata": {},
   "outputs": [
    {
     "data": {
      "text/plain": [
       "<AxesSubplot:>"
      ]
     },
     "execution_count": 90,
     "metadata": {},
     "output_type": "execute_result"
    },
    {
     "data": {
      "image/png": "[encoded data removed]",
      "text/plain": [
       "<Figure size 432x288 with 1 Axes>"
      ]
     },
     "metadata": {
      "needs_background": "light"
     },
     "output_type": "display_data"
    }
   ],
   "source": [
    "losses[['val_accuracy', 'accuracy']].plot()"
   ]
  },
  {
   "cell_type": "code",
   "execution_count": null,
   "metadata": {},
   "outputs": [
    {
     "data": {
      "text/plain": [
       "<AxesSubplot:>"
      ]
     },
     "execution_count": 91,
     "metadata": {},
     "output_type": "execute_result"
    },
    {
     "data": {
      "image/png": "[encoded data removed]",
      "text/plain": [
       "<Figure size 432x288 with 1 Axes>"
      ]
     },
     "metadata": {
      "needs_background": "light"
     },
     "output_type": "display_data"
    }
   ],
   "source": [
    "losses[['val_loss', 'loss']].plot()"
   ]
  },
  {
   "cell_type": "code",
   "execution_count": null,
   "metadata": {},
   "outputs": [
    {
     "name": "stdout",
     "output_type": "stream",
     "text": [
      "INFO:tensorflow:Assets written to: models/mobile-2021-05-18_06:00:19-0.48473334312438965-30/assets\n"
     ]
    }
   ],
   "source": [
    "import datetime\n",
    "\n",
    "date_str = datetime.datetime.now().strftime(\"%Y-%m-%d %H:%M:%S\")\n",
    "val_accuracy = losses[['val_accuracy']].values[-1][0]\n",
    "date_str = datetime.datetime.now().strftime(\"%Y-%m-%d_%H:%M:%S\")\n",
    "checkpoint_path = f\"models/mobile-{date_str}-{val_accuracy}-{epochs}\"\n",
    "model.save(checkpoint_path)\n"
   ]
  },
  {
   "cell_type": "code",
   "execution_count": null,
   "metadata": {},
   "outputs": [],
   "source": [
    "# model = tf.keras.models.load_model(checkpoint_path)"
   ]
  },
  {
   "cell_type": "code",
   "execution_count": null,
   "metadata": {},
   "outputs": [],
   "source": []
  }
 ],
 "metadata": {
  "kernelspec": {
   "display_name": "Python [conda env:azureml_py36_tensorflow]",
   "language": "python",
   "name": "conda-env-azureml_py36_tensorflow-py"
  },
  "language_info": {
   "codemirror_mode": {
    "name": "ipython",
    "version": 3
   },
   "file_extension": ".py",
   "mimetype": "text/x-python",
   "name": "python",
   "nbconvert_exporter": "python",
   "pygments_lexer": "ipython3",
   "version": "3.6.9"
  }
 },
 "nbformat": 4,
 "nbformat_minor": 4
}
